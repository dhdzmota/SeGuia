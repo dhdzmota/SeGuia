{
 "cells": [
  {
   "cell_type": "markdown",
   "id": "68d43476",
   "metadata": {},
   "source": [
    "# Initial data Fetch\n",
    "\n",
    "This is a file that tries to fetch the core information of the proyect in a simple but programatic way.\n",
    "\n",
    "The information is obtained from the following [link](https://smn.conagua.gob.mx/es/climatologia/monitor-de-sequia/monitor-de-sequia-en-mexico). In the specific section called \"Descarga Archivo de Municipios\". \n",
    "\n",
    "The downloaded file will be a h5 file; which will be downloaded into data/raw path in this model template, with the key=raw."
   ]
  },
  {
   "cell_type": "code",
   "execution_count": 17,
   "id": "5b904254",
   "metadata": {
    "ExecuteTime": {
     "end_time": "2022-08-07T08:23:38.257723Z",
     "start_time": "2022-08-07T08:23:23.935828Z"
    }
   },
   "outputs": [],
   "source": [
    "import pandas as pd\n",
    "import ssl\n",
    "import os\n",
    "\n",
    "url = 'https://smn.conagua.gob.mx'\n",
    "url += '/tools/RESOURCES'\n",
    "url += '/Monitor%20de%20Sequia%20en%20Mexico'\n",
    "url += '/MunicipiosSequia.xlsx'\n",
    "\n",
    "ssl._create_default_https_context = ssl._create_unverified_context\n",
    "df = pd.read_excel(url)\n",
    "df.to_hdf('../data/raw/raw_data.h5', key='raw')"
   ]
  }
 ],
 "metadata": {
  "hide_input": false,
  "kernelspec": {
   "display_name": "Python 3 (ipykernel)",
   "language": "python",
   "name": "python3"
  },
  "language_info": {
   "codemirror_mode": {
    "name": "ipython",
    "version": 3
   },
   "file_extension": ".py",
   "mimetype": "text/x-python",
   "name": "python",
   "nbconvert_exporter": "python",
   "pygments_lexer": "ipython3",
   "version": "3.7.12"
  },
  "toc": {
   "base_numbering": 1,
   "nav_menu": {},
   "number_sections": true,
   "sideBar": true,
   "skip_h1_title": false,
   "title_cell": "Table of Contents",
   "title_sidebar": "Contents",
   "toc_cell": false,
   "toc_position": {},
   "toc_section_display": true,
   "toc_window_display": false
  }
 },
 "nbformat": 4,
 "nbformat_minor": 5
}
