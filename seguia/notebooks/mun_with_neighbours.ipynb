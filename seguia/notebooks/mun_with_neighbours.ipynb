{
 "cells": [
  {
   "cell_type": "code",
   "execution_count": 1,
   "id": "00bab568",
   "metadata": {
    "ExecuteTime": {
     "end_time": "2022-08-31T06:07:01.121788Z",
     "start_time": "2022-08-31T06:06:54.962348Z"
    }
   },
   "outputs": [],
   "source": [
    "import geopandas as gpd\n",
    "import pandas as pd\n",
    "from shapely.wkt import loads\n",
    "from shapely.geometry import Point"
   ]
  },
  {
   "cell_type": "code",
   "execution_count": 2,
   "id": "e378e915",
   "metadata": {
    "ExecuteTime": {
     "end_time": "2022-08-31T06:07:30.018185Z",
     "start_time": "2022-08-31T06:07:02.917927Z"
    }
   },
   "outputs": [],
   "source": [
    "crs = 'epsg:6372'\n",
    "file_path = \"../data/interim/00a_modified_test.shp\"\n",
    "data = pd.read_csv(file_path, index_col=0)\n",
    "data.geometry = data.geometry.apply(loads)\n",
    "data = gpd.GeoDataFrame(data, crs=crs)\n",
    "data['centroid'] = data.geometry.apply(lambda x: x.centroid)\n",
    "data['lon'] = data.centroid.apply(lambda point: point.xy[0][0])\n",
    "data['lat'] = data.centroid.apply(lambda point: point.xy[1][0])\n",
    "data['CVE_CONCAT'] = data.CVE_CONCAT.apply(lambda x: str(x).zfill(5))"
   ]
  },
  {
   "cell_type": "code",
   "execution_count": 3,
   "id": "3e3a3930",
   "metadata": {
    "ExecuteTime": {
     "end_time": "2022-08-31T06:07:33.936083Z",
     "start_time": "2022-08-31T06:07:33.285009Z"
    }
   },
   "outputs": [
    {
     "name": "stderr",
     "output_type": "stream",
     "text": [
      "/mnt/c/Users/dhdzm/Documents/proyects/seguia/SeGuia/venv/lib/python3.7/site-packages/pandas/core/dtypes/cast.py:118: ShapelyDeprecationWarning: The array interface is deprecated and will no longer work in Shapely 2.0. Convert the '.coords' to a numpy array instead.\n",
      "  arr = construct_1d_object_array_from_listlike(values)\n"
     ]
    }
   ],
   "source": [
    "center_CVE_CONCAT_point = gpd.GeoDataFrame(\n",
    "    data.groupby('CVE_CONCAT').mean()[\n",
    "        ['lon', 'lat']\n",
    "    ].apply(\n",
    "        lambda x: Point(x['lon'], x['lat']),\n",
    "        axis=1\n",
    "    ).reset_index().rename(\n",
    "        columns={0: 'geometry'}\n",
    "    ), crs=crs\n",
    ")\n",
    "center_CVE_CONCAT_point['lon_lat_geometry'] = center_CVE_CONCAT_point.geometry.to_crs(epsg=4326)\n",
    "center_CVE_CONCAT_point['location_count'] = data.groupby('CVE_CONCAT').geometry.count().rename('location_count').reset_index()['location_count']"
   ]
  },
  {
   "cell_type": "code",
   "execution_count": 135,
   "id": "e4f4f5d3",
   "metadata": {
    "ExecuteTime": {
     "end_time": "2022-08-22T04:29:55.630272Z",
     "start_time": "2022-08-22T04:29:55.627284Z"
    }
   },
   "outputs": [],
   "source": [
    "#grouped_localities = data.dissolve('CVE_CONCAT')\n",
    "#grouped_localities['centroid'] = grouped_localities.geometry.apply(lambda x: x.centroid)"
   ]
  },
  {
   "cell_type": "code",
   "execution_count": 4,
   "id": "ef007878",
   "metadata": {
    "ExecuteTime": {
     "end_time": "2022-08-31T06:08:28.966049Z",
     "start_time": "2022-08-31T06:07:38.943267Z"
    }
   },
   "outputs": [],
   "source": [
    "file_path_mun = \"../data/raw/mg_2020_integrado/conjunto_de_datos/00mun.shp\"\n",
    "\n",
    "data_mun = gpd.read_file(file_path_mun)\n",
    "\n",
    "\n",
    "def list_of_intersecting_municipalities(geom):\n",
    "    return list(data_mun[data_mun.geometry.apply(lambda x: geom.intersects(x))].CVEGEO)\n",
    "\n",
    "data_mun['cve_concat_list_of_neighbour_municipalities'] = data_mun.geometry.apply(list_of_intersecting_municipalities)\n",
    "\n",
    "def second_neighbours_interesecting_municipalities(neighbour_list):\n",
    "    feature = 'cve_concat_list_of_neighbour_municipalities'\n",
    "    neighbour_set = set(neighbour_list)\n",
    "    second_neighbour_set = set(\n",
    "        data_mun[data_mun.CVEGEO.isin(neighbour_list)][feature].sum()\n",
    "    )\n",
    "    return list(second_neighbour_set - neighbour_set)\n",
    "\n",
    "data_mun['cve_concat_list_of_2nd_neighbour_municipalities'] = data_mun.cve_concat_list_of_neighbour_municipalities.apply(second_neighbours_interesecting_municipalities)"
   ]
  },
  {
   "cell_type": "code",
   "execution_count": 5,
   "id": "4abc22fa",
   "metadata": {
    "ExecuteTime": {
     "end_time": "2022-08-31T06:08:35.190007Z",
     "start_time": "2022-08-31T06:08:35.111316Z"
    }
   },
   "outputs": [],
   "source": [
    "interesting_list = ['CVEGEO', 'NOMGEO', 'cve_concat_list_of_neighbour_municipalities', 'cve_concat_list_of_2nd_neighbour_municipalities', 'geometry']\n",
    "new_data_mun = center_CVE_CONCAT_point.rename(columns={'geometry': 'point_geometry'}).merge(\n",
    "    data_mun[interesting_list], \n",
    "    left_on='CVE_CONCAT', \n",
    "    right_on='CVEGEO',\n",
    ")"
   ]
  },
  {
   "cell_type": "code",
   "execution_count": 6,
   "id": "9d11f9e1",
   "metadata": {
    "ExecuteTime": {
     "end_time": "2022-08-31T06:08:37.419754Z",
     "start_time": "2022-08-31T06:08:37.270739Z"
    }
   },
   "outputs": [
    {
     "data": {
      "text/html": [
       "<div>\n",
       "<style scoped>\n",
       "    .dataframe tbody tr th:only-of-type {\n",
       "        vertical-align: middle;\n",
       "    }\n",
       "\n",
       "    .dataframe tbody tr th {\n",
       "        vertical-align: top;\n",
       "    }\n",
       "\n",
       "    .dataframe thead th {\n",
       "        text-align: right;\n",
       "    }\n",
       "</style>\n",
       "<table border=\"1\" class=\"dataframe\">\n",
       "  <thead>\n",
       "    <tr style=\"text-align: right;\">\n",
       "      <th></th>\n",
       "      <th>CVE_CONCAT</th>\n",
       "      <th>point_geometry</th>\n",
       "      <th>lon_lat_geometry</th>\n",
       "      <th>location_count</th>\n",
       "      <th>CVEGEO</th>\n",
       "      <th>NOMGEO</th>\n",
       "      <th>cve_concat_list_of_neighbour_municipalities</th>\n",
       "      <th>cve_concat_list_of_2nd_neighbour_municipalities</th>\n",
       "      <th>geometry</th>\n",
       "    </tr>\n",
       "  </thead>\n",
       "  <tbody>\n",
       "    <tr>\n",
       "      <th>577</th>\n",
       "      <td>14039</td>\n",
       "      <td>POINT (2361383.557 963469.075)</td>\n",
       "      <td>POINT (-103.33600 20.67248)</td>\n",
       "      <td>443</td>\n",
       "      <td>14039</td>\n",
       "      <td>Guadalajara</td>\n",
       "      <td>[14039, 14045, 14098, 14101, 14120, 14124]</td>\n",
       "      <td>[14029, 14005, 14070, 32028, 14105, 14009, 140...</td>\n",
       "      <td>POLYGON ((2363989.299 972099.751, 2364144.238 ...</td>\n",
       "    </tr>\n",
       "  </tbody>\n",
       "</table>\n",
       "</div>"
      ],
      "text/plain": [
       "    CVE_CONCAT                  point_geometry             lon_lat_geometry  \\\n",
       "577      14039  POINT (2361383.557 963469.075)  POINT (-103.33600 20.67248)   \n",
       "\n",
       "     location_count CVEGEO       NOMGEO  \\\n",
       "577             443  14039  Guadalajara   \n",
       "\n",
       "    cve_concat_list_of_neighbour_municipalities  \\\n",
       "577  [14039, 14045, 14098, 14101, 14120, 14124]   \n",
       "\n",
       "       cve_concat_list_of_2nd_neighbour_municipalities  \\\n",
       "577  [14029, 14005, 14070, 32028, 14105, 14009, 140...   \n",
       "\n",
       "                                              geometry  \n",
       "577  POLYGON ((2363989.299 972099.751, 2364144.238 ...  "
      ]
     },
     "execution_count": 6,
     "metadata": {},
     "output_type": "execute_result"
    }
   ],
   "source": [
    "new_data_mun[new_data_mun.NOMGEO =='Guadalajara']"
   ]
  },
  {
   "cell_type": "code",
   "execution_count": 7,
   "id": "b291e61b",
   "metadata": {
    "ExecuteTime": {
     "end_time": "2022-08-31T06:09:06.847910Z",
     "start_time": "2022-08-31T06:09:06.757985Z"
    }
   },
   "outputs": [
    {
     "data": {
      "text/html": [
       "<div>\n",
       "<style scoped>\n",
       "    .dataframe tbody tr th:only-of-type {\n",
       "        vertical-align: middle;\n",
       "    }\n",
       "\n",
       "    .dataframe tbody tr th {\n",
       "        vertical-align: top;\n",
       "    }\n",
       "\n",
       "    .dataframe thead th {\n",
       "        text-align: right;\n",
       "    }\n",
       "</style>\n",
       "<table border=\"1\" class=\"dataframe\">\n",
       "  <thead>\n",
       "    <tr style=\"text-align: right;\">\n",
       "      <th></th>\n",
       "      <th>CVE_CONCAT</th>\n",
       "      <th>point_geometry</th>\n",
       "      <th>lon_lat_geometry</th>\n",
       "      <th>location_count</th>\n",
       "      <th>CVEGEO</th>\n",
       "      <th>NOMGEO</th>\n",
       "      <th>cve_concat_list_of_neighbour_municipalities</th>\n",
       "      <th>cve_concat_list_of_2nd_neighbour_municipalities</th>\n",
       "      <th>geometry</th>\n",
       "    </tr>\n",
       "  </thead>\n",
       "  <tbody>\n",
       "    <tr>\n",
       "      <th>0</th>\n",
       "      <td>01001</td>\n",
       "      <td>POINT (2471409.903 1095700.338)</td>\n",
       "      <td>POINT (-102.27803 21.87795)</td>\n",
       "      <td>351</td>\n",
       "      <td>01001</td>\n",
       "      <td>Aguascalientes</td>\n",
       "      <td>[01001, 01002, 01003, 01005, 01010, 01011, 140...</td>\n",
       "      <td>[14117, 01008, 01009, 32024, 32055, 11022, 320...</td>\n",
       "      <td>POLYGON ((2489072.503 1115771.584, 2489352.774...</td>\n",
       "    </tr>\n",
       "    <tr>\n",
       "      <th>1</th>\n",
       "      <td>01002</td>\n",
       "      <td>POINT (2494330.383 1126438.693)</td>\n",
       "      <td>POINT (-102.05525 22.15721)</td>\n",
       "      <td>22</td>\n",
       "      <td>01002</td>\n",
       "      <td>Asientos</td>\n",
       "      <td>[01001, 01002, 01006, 01009, 01010, 01011, 140...</td>\n",
       "      <td>[01008, 32025, 14035, 01007, 32038, 14116, 010...</td>\n",
       "      <td>POLYGON ((2494680.261 1141224.505, 2494749.948...</td>\n",
       "    </tr>\n",
       "    <tr>\n",
       "      <th>2</th>\n",
       "      <td>01003</td>\n",
       "      <td>POINT (2427723.846 1095703.250)</td>\n",
       "      <td>POINT (-102.70286 21.87662)</td>\n",
       "      <td>26</td>\n",
       "      <td>01003</td>\n",
       "      <td>Calvillo</td>\n",
       "      <td>[01001, 01003, 01005, 01008, 14116, 32018, 320...</td>\n",
       "      <td>[32048, 14025, 14035, 01007, 14081, 01010, 320...</td>\n",
       "      <td>POLYGON ((2429607.454 1120262.254, 2429071.902...</td>\n",
       "    </tr>\n",
       "    <tr>\n",
       "      <th>3</th>\n",
       "      <td>01004</td>\n",
       "      <td>POINT (2469503.072 1148329.651)</td>\n",
       "      <td>POINT (-102.29764 22.35566)</td>\n",
       "      <td>10</td>\n",
       "      <td>01004</td>\n",
       "      <td>Cosío</td>\n",
       "      <td>[01004, 01007, 32008, 32025]</td>\n",
       "      <td>[01008, 01009, 32024, 32036, 32035, 32012, 01006]</td>\n",
       "      <td>POLYGON ((2470517.824 1155028.588, 2470552.248...</td>\n",
       "    </tr>\n",
       "    <tr>\n",
       "      <th>4</th>\n",
       "      <td>01005</td>\n",
       "      <td>POINT (2465053.591 1104883.875)</td>\n",
       "      <td>POINT (-102.34006 21.96119)</td>\n",
       "      <td>47</td>\n",
       "      <td>01005</td>\n",
       "      <td>Jesús María</td>\n",
       "      <td>[01001, 01003, 01005, 01006, 01008, 01011]</td>\n",
       "      <td>[14035, 01009, 01007, 32055, 32018, 14116, 010...</td>\n",
       "      <td>POLYGON ((2465526.729 1114740.466, 2465752.546...</td>\n",
       "    </tr>\n",
       "    <tr>\n",
       "      <th>...</th>\n",
       "      <td>...</td>\n",
       "      <td>...</td>\n",
       "      <td>...</td>\n",
       "      <td>...</td>\n",
       "      <td>...</td>\n",
       "      <td>...</td>\n",
       "      <td>...</td>\n",
       "      <td>...</td>\n",
       "      <td>...</td>\n",
       "    </tr>\n",
       "    <tr>\n",
       "      <th>2464</th>\n",
       "      <td>32054</td>\n",
       "      <td>POINT (2529349.827 1148982.076)</td>\n",
       "      <td>POINT (-101.71354 22.36160)</td>\n",
       "      <td>24</td>\n",
       "      <td>32054</td>\n",
       "      <td>Villa Hidalgo</td>\n",
       "      <td>[24025, 32035, 32038, 32054]</td>\n",
       "      <td>[24015, 32025, 14064, 24021, 24049, 24022, 320...</td>\n",
       "      <td>POLYGON ((2531223.368 1166188.348, 2531242.386...</td>\n",
       "    </tr>\n",
       "    <tr>\n",
       "      <th>2465</th>\n",
       "      <td>32055</td>\n",
       "      <td>POINT (2412175.141 1150919.431)</td>\n",
       "      <td>POINT (-102.85728 22.37707)</td>\n",
       "      <td>62</td>\n",
       "      <td>32055</td>\n",
       "      <td>Villanueva</td>\n",
       "      <td>[01003, 01008, 14025, 14081, 32012, 32015, 320...</td>\n",
       "      <td>[32048, 32036, 01001, 32017, 32030, 32010, 320...</td>\n",
       "      <td>POLYGON ((2420011.778 1183552.394, 2420043.461...</td>\n",
       "    </tr>\n",
       "    <tr>\n",
       "      <th>2466</th>\n",
       "      <td>32056</td>\n",
       "      <td>POINT (2439646.182 1193066.889)</td>\n",
       "      <td>POINT (-102.59082 22.76096)</td>\n",
       "      <td>184</td>\n",
       "      <td>32056</td>\n",
       "      <td>Zacatecas</td>\n",
       "      <td>[32005, 32012, 32017, 32020, 32032, 32050, 320...</td>\n",
       "      <td>[32016, 01008, 14025, 24049, 01007, 32010, 320...</td>\n",
       "      <td>POLYGON ((2421707.751 1202019.971, 2421780.086...</td>\n",
       "    </tr>\n",
       "    <tr>\n",
       "      <th>2467</th>\n",
       "      <td>32057</td>\n",
       "      <td>POINT (2462810.181 1190278.884)</td>\n",
       "      <td>POINT (-102.36400 22.73635)</td>\n",
       "      <td>67</td>\n",
       "      <td>32057</td>\n",
       "      <td>Trancoso</td>\n",
       "      <td>[32016, 32017, 32036, 32057]</td>\n",
       "      <td>[32025, 24049, 32008, 32037, 32035, 32012, 320...</td>\n",
       "      <td>POLYGON ((2476976.320 1198274.003, 2476566.139...</td>\n",
       "    </tr>\n",
       "    <tr>\n",
       "      <th>2468</th>\n",
       "      <td>32058</td>\n",
       "      <td>POINT (2357884.054 1056586.176)</td>\n",
       "      <td>POINT (-103.37835 21.51700)</td>\n",
       "      <td>12</td>\n",
       "      <td>32058</td>\n",
       "      <td>Santa María de la Paz</td>\n",
       "      <td>[32001, 32004, 32019, 32023, 32045, 32047, 32058]</td>\n",
       "      <td>[32048, 14076, 14031, 32028, 32018, 32033, 140...</td>\n",
       "      <td>POLYGON ((2356749.002 1062854.583, 2357430.998...</td>\n",
       "    </tr>\n",
       "  </tbody>\n",
       "</table>\n",
       "<p>2469 rows × 9 columns</p>\n",
       "</div>"
      ],
      "text/plain": [
       "     CVE_CONCAT                   point_geometry             lon_lat_geometry  \\\n",
       "0         01001  POINT (2471409.903 1095700.338)  POINT (-102.27803 21.87795)   \n",
       "1         01002  POINT (2494330.383 1126438.693)  POINT (-102.05525 22.15721)   \n",
       "2         01003  POINT (2427723.846 1095703.250)  POINT (-102.70286 21.87662)   \n",
       "3         01004  POINT (2469503.072 1148329.651)  POINT (-102.29764 22.35566)   \n",
       "4         01005  POINT (2465053.591 1104883.875)  POINT (-102.34006 21.96119)   \n",
       "...         ...                              ...                          ...   \n",
       "2464      32054  POINT (2529349.827 1148982.076)  POINT (-101.71354 22.36160)   \n",
       "2465      32055  POINT (2412175.141 1150919.431)  POINT (-102.85728 22.37707)   \n",
       "2466      32056  POINT (2439646.182 1193066.889)  POINT (-102.59082 22.76096)   \n",
       "2467      32057  POINT (2462810.181 1190278.884)  POINT (-102.36400 22.73635)   \n",
       "2468      32058  POINT (2357884.054 1056586.176)  POINT (-103.37835 21.51700)   \n",
       "\n",
       "      location_count CVEGEO                 NOMGEO  \\\n",
       "0                351  01001         Aguascalientes   \n",
       "1                 22  01002               Asientos   \n",
       "2                 26  01003               Calvillo   \n",
       "3                 10  01004                  Cosío   \n",
       "4                 47  01005            Jesús María   \n",
       "...              ...    ...                    ...   \n",
       "2464              24  32054          Villa Hidalgo   \n",
       "2465              62  32055             Villanueva   \n",
       "2466             184  32056              Zacatecas   \n",
       "2467              67  32057               Trancoso   \n",
       "2468              12  32058  Santa María de la Paz   \n",
       "\n",
       "            cve_concat_list_of_neighbour_municipalities  \\\n",
       "0     [01001, 01002, 01003, 01005, 01010, 01011, 140...   \n",
       "1     [01001, 01002, 01006, 01009, 01010, 01011, 140...   \n",
       "2     [01001, 01003, 01005, 01008, 14116, 32018, 320...   \n",
       "3                          [01004, 01007, 32008, 32025]   \n",
       "4            [01001, 01003, 01005, 01006, 01008, 01011]   \n",
       "...                                                 ...   \n",
       "2464                       [24025, 32035, 32038, 32054]   \n",
       "2465  [01003, 01008, 14025, 14081, 32012, 32015, 320...   \n",
       "2466  [32005, 32012, 32017, 32020, 32032, 32050, 320...   \n",
       "2467                       [32016, 32017, 32036, 32057]   \n",
       "2468  [32001, 32004, 32019, 32023, 32045, 32047, 32058]   \n",
       "\n",
       "        cve_concat_list_of_2nd_neighbour_municipalities  \\\n",
       "0     [14117, 01008, 01009, 32024, 32055, 11022, 320...   \n",
       "1     [01008, 32025, 14035, 01007, 32038, 14116, 010...   \n",
       "2     [32048, 14025, 14035, 01007, 14081, 01010, 320...   \n",
       "3     [01008, 01009, 32024, 32036, 32035, 32012, 01006]   \n",
       "4     [14035, 01009, 01007, 32055, 32018, 14116, 010...   \n",
       "...                                                 ...   \n",
       "2464  [24015, 32025, 14064, 24021, 24049, 24022, 320...   \n",
       "2465  [32048, 32036, 01001, 32017, 32030, 32010, 320...   \n",
       "2466  [32016, 01008, 14025, 24049, 01007, 32010, 320...   \n",
       "2467  [32025, 24049, 32008, 32037, 32035, 32012, 320...   \n",
       "2468  [32048, 14076, 14031, 32028, 32018, 32033, 140...   \n",
       "\n",
       "                                               geometry  \n",
       "0     POLYGON ((2489072.503 1115771.584, 2489352.774...  \n",
       "1     POLYGON ((2494680.261 1141224.505, 2494749.948...  \n",
       "2     POLYGON ((2429607.454 1120262.254, 2429071.902...  \n",
       "3     POLYGON ((2470517.824 1155028.588, 2470552.248...  \n",
       "4     POLYGON ((2465526.729 1114740.466, 2465752.546...  \n",
       "...                                                 ...  \n",
       "2464  POLYGON ((2531223.368 1166188.348, 2531242.386...  \n",
       "2465  POLYGON ((2420011.778 1183552.394, 2420043.461...  \n",
       "2466  POLYGON ((2421707.751 1202019.971, 2421780.086...  \n",
       "2467  POLYGON ((2476976.320 1198274.003, 2476566.139...  \n",
       "2468  POLYGON ((2356749.002 1062854.583, 2357430.998...  \n",
       "\n",
       "[2469 rows x 9 columns]"
      ]
     },
     "execution_count": 7,
     "metadata": {},
     "output_type": "execute_result"
    }
   ],
   "source": [
    "new_data_mun"
   ]
  },
  {
   "cell_type": "code",
   "execution_count": 8,
   "id": "8e3f8573",
   "metadata": {
    "ExecuteTime": {
     "end_time": "2022-08-31T06:09:37.044916Z",
     "start_time": "2022-08-31T06:09:33.408688Z"
    }
   },
   "outputs": [],
   "source": [
    "new_data_mun.to_csv(\"../data/interim/00mun_with_neighbours.csv\")"
   ]
  }
 ],
 "metadata": {
  "hide_input": false,
  "kernelspec": {
   "display_name": "Python 3 (ipykernel)",
   "language": "python",
   "name": "python3"
  },
  "language_info": {
   "codemirror_mode": {
    "name": "ipython",
    "version": 3
   },
   "file_extension": ".py",
   "mimetype": "text/x-python",
   "name": "python",
   "nbconvert_exporter": "python",
   "pygments_lexer": "ipython3",
   "version": "3.7.12"
  },
  "toc": {
   "base_numbering": 1,
   "nav_menu": {},
   "number_sections": true,
   "sideBar": true,
   "skip_h1_title": false,
   "title_cell": "Table of Contents",
   "title_sidebar": "Contents",
   "toc_cell": false,
   "toc_position": {},
   "toc_section_display": true,
   "toc_window_display": false
  }
 },
 "nbformat": 4,
 "nbformat_minor": 5
}
